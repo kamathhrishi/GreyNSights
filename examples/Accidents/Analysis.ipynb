{
 "cells": [
  {
   "cell_type": "markdown",
   "metadata": {},
   "source": [
    "<h1>Accidents Example</h1>"
   ]
  },
  {
   "cell_type": "code",
   "execution_count": 1,
   "metadata": {},
   "outputs": [],
   "source": [
    "from GreyNsights.analyst import DataWorker, DataSource, Pointer, Command, Analyst\n",
    "from GreyNsights.frameworks import framework\n",
    "import numpy as np"
   ]
  },
  {
   "cell_type": "markdown",
   "metadata": {},
   "source": [
    "This notebook demonstrates how to use GreyNSights on a remote dataset hosted by some dataowner. The primary aim of this example is to show pandas could be used as it is across a wide range of queries to analyze and explore a remote datasource. For running this example first run datasource.py , this begins the datasource server which hosts the dataset and executes the requests made from this notebook. "
   ]
  },
  {
   "cell_type": "code",
   "execution_count": 2,
   "metadata": {},
   "outputs": [],
   "source": [
    "#Pandas version of GreyNsights that performs queries remotely \n",
    "frameworks = framework()\n",
    "pandas = frameworks.pandas"
   ]
  },
  {
   "cell_type": "markdown",
   "metadata": {},
   "source": [
    "The analyst identity doesn't actually have any underlying functionality for now , but it is a placeholder for the future such as providing an actual identity in terms of certificate. "
   ]
  },
  {
   "cell_type": "code",
   "execution_count": 3,
   "metadata": {},
   "outputs": [],
   "source": [
    "identity = Analyst(\"Alice\", port=65441, host=\"127.0.0.1\")"
   ]
  },
  {
   "cell_type": "markdown",
   "metadata": {},
   "source": [
    "This connects to the remote dataowner "
   ]
  },
  {
   "cell_type": "code",
   "execution_count": 4,
   "metadata": {},
   "outputs": [],
   "source": [
    "worker = DataWorker(port=65441, host=\"127.0.0.1\")\n",
    "dataset = DataSource(identity, worker, \"Sample Data\")"
   ]
  },
  {
   "cell_type": "markdown",
   "metadata": {},
   "source": [
    "Get the config of data owner to understand the limitations set on the private dataset for querying "
   ]
  },
  {
   "cell_type": "code",
   "execution_count": 5,
   "metadata": {},
   "outputs": [
    {
     "name": "stdout",
     "output_type": "stream",
     "text": [
      "\n",
      "\n",
      "owner_name: Bob\n",
      "dataset_name: Sample Data\n",
      "privacy_budget: 10.0\n",
      "trusted-aggregator: None\n",
      "secret-sharing: Shamirs_scheme\n",
      "private_columns: \n",
      "\n",
      "\t-N\n",
      "\t-o\n",
      "\t-n\n",
      "\t-e\n",
      "visible_columns: \n",
      "restricted_columns: default\n",
      "allowed_queries: default\n",
      "visible_queries: \n",
      "\t-sum\n",
      "\t-count\n",
      "\t-mean\n",
      "\t-percentile\n",
      "\t-max\n",
      "\t-min\n",
      "\t-median\n",
      "restricted_queries: None\n",
      "\n",
      "\n"
     ]
    }
   ],
   "source": [
    "a = dataset.get_config()\n",
    "print(a)"
   ]
  },
  {
   "cell_type": "code",
   "execution_count": 6,
   "metadata": {},
   "outputs": [],
   "source": [
    "a = a.approve().init_pointer()"
   ]
  },
  {
   "cell_type": "markdown",
   "metadata": {},
   "source": [
    "Create a dataframe from the dataset (Its already a dataframe but to demonstrate GreyNSights pandas remote execution)"
   ]
  },
  {
   "cell_type": "code",
   "execution_count": 7,
   "metadata": {},
   "outputs": [],
   "source": [
    "df = pandas.DataFrame(a)"
   ]
  },
  {
   "cell_type": "markdown",
   "metadata": {},
   "source": [
    "Variables and functions can be sent remotely for execution using function send(). The send() returns a pointer to the variable that now lives remotely. "
   ]
  },
  {
   "cell_type": "code",
   "execution_count": 8,
   "metadata": {},
   "outputs": [],
   "source": [
    "p = 3\n",
    "p = dataset.send(p)"
   ]
  },
  {
   "cell_type": "code",
   "execution_count": 9,
   "metadata": {},
   "outputs": [
    {
     "name": "stdout",
     "output_type": "stream",
     "text": [
      "\n",
      "Pointer->Sample Data\n",
      "\t \t dataset:Sample Data\n",
      "\t \t dtype:<class 'pandas.core.frame.DataFrame'>\n",
      "\t \t id:540050427194\n",
      "\t \t port:65441\n",
      "\t \t host:127.0.0.1\n",
      "\n"
     ]
    }
   ],
   "source": [
    "# last 5 rows\n",
    "print(df.tail(p))"
   ]
  },
  {
   "cell_type": "code",
   "execution_count": 10,
   "metadata": {},
   "outputs": [
    {
     "name": "stdout",
     "output_type": "stream",
     "text": [
      "\n",
      "Pointer->Sample Data\n",
      "\t \t dataset:Sample Data\n",
      "\t \t dtype:<class 'pandas.core.frame.DataFrame'>\n",
      "\t \t id:944226731383\n",
      "\t \t port:65441\n",
      "\t \t host:127.0.0.1\n",
      "\n"
     ]
    }
   ],
   "source": [
    "print(df)"
   ]
  },
  {
   "cell_type": "markdown",
   "metadata": {},
   "source": [
    "The below operation performs operation on the pointer which ensures the operation is executed remotely by datasource. The original results are returned only when the get function is called.The exact same functionalities as Pandas dataframes can be performed. "
   ]
  },
  {
   "cell_type": "code",
   "execution_count": 11,
   "metadata": {},
   "outputs": [
    {
     "name": "stdout",
     "output_type": "stream",
     "text": [
      "\n",
      "Pointer->Bob\n",
      "\t \t dataset:Sample Data\n",
      "\t \t dtype:<class 'pandas.core.series.Series'>\n",
      "\t \t id:522977501930\n",
      "\t \t port:65441\n",
      "\t \t host:127.0.0.1\n",
      "\n"
     ]
    }
   ],
   "source": [
    "print(df[\"TMC\"])"
   ]
  },
  {
   "cell_type": "code",
   "execution_count": 12,
   "metadata": {},
   "outputs": [
    {
     "name": "stdout",
     "output_type": "stream",
     "text": [
      "\n",
      "Pointer->Sample Data\n",
      "\t \t dataset:Sample Data\n",
      "\t \t dtype:<class 'float'>\n",
      "\t \t id:194139130899\n",
      "\t \t port:65441\n",
      "\t \t host:127.0.0.1\n",
      "\n"
     ]
    }
   ],
   "source": [
    "print(df[\"TMC\"].sum())"
   ]
  },
  {
   "cell_type": "code",
   "execution_count": 13,
   "metadata": {},
   "outputs": [
    {
     "name": "stdout",
     "output_type": "stream",
     "text": [
      "515650733.5298479\n"
     ]
    }
   ],
   "source": [
    "print(df[\"TMC\"].sum().get())"
   ]
  },
  {
   "cell_type": "code",
   "execution_count": 14,
   "metadata": {},
   "outputs": [
    {
     "name": "stdout",
     "output_type": "stream",
     "text": [
      "                TMC      Severity     Start_Lat     Start_Lng       End_Lat  \\\n",
      "count  2.478818e+06  3.513617e+06  3.513617e+06  3.513617e+06  1.034799e+06   \n",
      "mean   2.080226e+02  2.339929e+00  3.654195e+01 -9.579151e+01  3.755758e+01   \n",
      "std    2.076627e+01  5.521935e-01  4.883520e+00  1.736877e+01  4.861215e+00   \n",
      "min    2.000000e+02  1.000000e+00  2.455527e+01 -1.246238e+02  2.457011e+01   \n",
      "25%    2.010000e+02  2.000000e+00  3.363784e+01 -1.174418e+02  3.399477e+01   \n",
      "50%    2.010000e+02  2.000000e+00  3.591687e+01 -9.102601e+01  3.779736e+01   \n",
      "75%    2.010000e+02  3.000000e+00  4.032217e+01 -8.093299e+01  4.105139e+01   \n",
      "max    4.060000e+02  4.000000e+00  4.900220e+01 -6.711317e+01  4.907500e+01   \n",
      "\n",
      "            End_Lng  Distance(mi)        Number  Temperature(F)  \\\n",
      "count  1.034799e+06  3.513617e+06  1.250753e+06    3.447885e+06   \n",
      "mean  -1.004560e+02  2.816167e-01  5.975383e+03    6.193512e+01   \n",
      "std    1.852879e+01  1.550134e+00  1.496624e+04    1.862106e+01   \n",
      "min   -1.244978e+02  0.000000e+00  0.000000e+00   -8.900000e+01   \n",
      "25%   -1.183440e+02  0.000000e+00  8.640000e+02    5.000000e+01   \n",
      "50%   -9.703438e+01  0.000000e+00  2.798000e+03    6.400000e+01   \n",
      "75%   -8.210168e+01  1.000000e-02  7.098000e+03    7.590000e+01   \n",
      "max   -6.710924e+01  3.336300e+02  9.999997e+06    1.706000e+02   \n",
      "\n",
      "       Wind_Chill(F)   Humidity(%)  Pressure(in)  Visibility(mi)  \\\n",
      "count   1.645368e+06  3.443930e+06  3.457735e+06    3.437761e+06   \n",
      "mean    5.355730e+01  6.511427e+01  2.974463e+01    9.122644e+00   \n",
      "std     2.377334e+01  2.275558e+01  8.319758e-01    2.885879e+00   \n",
      "min    -8.900000e+01  1.000000e+00  0.000000e+00    0.000000e+00   \n",
      "25%     3.570000e+01  4.800000e+01  2.973000e+01    1.000000e+01   \n",
      "50%     5.700000e+01  6.700000e+01  2.995000e+01    1.000000e+01   \n",
      "75%     7.200000e+01  8.400000e+01  3.009000e+01    1.000000e+01   \n",
      "max     1.150000e+02  1.000000e+02  5.774000e+01    1.400000e+02   \n",
      "\n",
      "       Wind_Speed(mph)  Precipitation(in)  \n",
      "count     3.059008e+06       1.487743e+06  \n",
      "mean      8.219025e+00       1.598256e-02  \n",
      "std       5.262847e+00       1.928262e-01  \n",
      "min       0.000000e+00       0.000000e+00  \n",
      "25%       5.000000e+00       0.000000e+00  \n",
      "50%       7.000000e+00       0.000000e+00  \n",
      "75%       1.150000e+01       0.000000e+00  \n",
      "max       9.840000e+02       2.500000e+01  \n"
     ]
    }
   ],
   "source": [
    "print(df.describe().get())"
   ]
  },
  {
   "cell_type": "code",
   "execution_count": 15,
   "metadata": {},
   "outputs": [
    {
     "name": "stdout",
     "output_type": "stream",
     "text": [
      "TMC sum:  515649671.3097857\n",
      "TMC std:  20.766272454711583\n",
      "Severity mean:  2.3399253624414285\n"
     ]
    }
   ],
   "source": [
    "print(\"TMC sum: \", df[\"TMC\"].sum().get())\n",
    "print(\"TMC std: \", df[\"TMC\"].std().get())\n",
    "print(\"Severity mean: \", df[\"Severity\"].mean().get())"
   ]
  },
  {
   "cell_type": "markdown",
   "metadata": {},
   "source": [
    "The number of rows should be queried as a differentially private count "
   ]
  },
  {
   "cell_type": "code",
   "execution_count": 16,
   "metadata": {},
   "outputs": [
    {
     "data": {
      "text/plain": [
       "(-1, 49)"
      ]
     },
     "execution_count": 16,
     "metadata": {},
     "output_type": "execute_result"
    }
   ],
   "source": [
    "df.shape"
   ]
  },
  {
   "cell_type": "code",
   "execution_count": 17,
   "metadata": {},
   "outputs": [
    {
     "name": "stdout",
     "output_type": "stream",
     "text": [
      "COLUMNS:  Index(['ID', 'Source', 'TMC', 'Severity', 'Start_Time', 'End_Time',\n",
      "       'Start_Lat', 'Start_Lng', 'End_Lat', 'End_Lng', 'Distance(mi)',\n",
      "       'Description', 'Number', 'Street', 'Side', 'City', 'County', 'State',\n",
      "       'Zipcode', 'Country', 'Timezone', 'Airport_Code', 'Weather_Timestamp',\n",
      "       'Temperature(F)', 'Wind_Chill(F)', 'Humidity(%)', 'Pressure(in)',\n",
      "       'Visibility(mi)', 'Wind_Direction', 'Wind_Speed(mph)',\n",
      "       'Precipitation(in)', 'Weather_Condition', 'Amenity', 'Bump', 'Crossing',\n",
      "       'Give_Way', 'Junction', 'No_Exit', 'Railway', 'Roundabout', 'Station',\n",
      "       'Stop', 'Traffic_Calming', 'Traffic_Signal', 'Turning_Loop',\n",
      "       'Sunrise_Sunset', 'Civil_Twilight', 'Nautical_Twilight',\n",
      "       'Astronomical_Twilight'],\n",
      "      dtype='object')\n"
     ]
    }
   ],
   "source": [
    "print(\"COLUMNS: \", df.columns)"
   ]
  },
  {
   "cell_type": "code",
   "execution_count": 18,
   "metadata": {},
   "outputs": [],
   "source": [
    "df.columns = [\n",
    "    \"ID\",\n",
    "    \"Source\",\n",
    "    \"TMC\",\n",
    "    \"Severity\",\n",
    "    \"Start_Time\",\n",
    "    \"End_Time\",\n",
    "    \"Start_Lat\",\n",
    "    \"Start_Lng\",\n",
    "    \"End_Lat\",\n",
    "    \"End_Lng\",\n",
    "    \"Distance_mi\",\n",
    "    \"Description\",\n",
    "    \"Number\",\n",
    "    \"Street\",\n",
    "    \"Side\",\n",
    "    \"City\",\n",
    "    \"County\",\n",
    "    \"State\",\n",
    "    \"Zipcode\",\n",
    "    \"Country\",\n",
    "    \"Timezone\",\n",
    "    \"Airport_Code\",\n",
    "    \"Weather_Timestamp\",\n",
    "    \"Temperature_F\",\n",
    "    \"Wind_Chill_F\",\n",
    "    \"Humidity_%\",\n",
    "    \"Pressure_in\",\n",
    "    \"Visibility_mi\",\n",
    "    \"Wind_Direction\",\n",
    "    \"Wind_Speed_mph\",\n",
    "    \"Precipitation_in\",\n",
    "    \"Weather_Condition\",\n",
    "    \"Amenity\",\n",
    "    \"Bump\",\n",
    "    \"Crossing\",\n",
    "    \"Give_Way\",\n",
    "    \"Junction\",\n",
    "    \"No_Exit\",\n",
    "    \"Railway\",\n",
    "    \"Roundabout\",\n",
    "    \"Station\",\n",
    "    \"Stop\",\n",
    "    \"Traffic_Calming\",\n",
    "    \"Traffic_Signal\",\n",
    "    \"Turning_Loop\",\n",
    "    \"Sunrise_Sunset\",\n",
    "    \"Civil_Twilight\",\n",
    "    \"Nautical_Twilight\",\n",
    "    \"Astronomical_Twilight\",\n",
    "]"
   ]
  },
  {
   "cell_type": "code",
   "execution_count": 19,
   "metadata": {},
   "outputs": [],
   "source": [
    "df = df[\n",
    "    [\n",
    "        \"ID\",\n",
    "        \"Source\",\n",
    "        \"TMC\",\n",
    "        \"Severity\",\n",
    "        \"Start_Time\",\n",
    "        \"End_Time\",\n",
    "        \"Start_Lat\",\n",
    "        \"Start_Lng\",\n",
    "        \"End_Lat\",\n",
    "        \"End_Lng\",\n",
    "    ]\n",
    "]\n"
   ]
  },
  {
   "cell_type": "code",
   "execution_count": 20,
   "metadata": {},
   "outputs": [],
   "source": [
    "df[\"Somecol\"] = (df[\"TMC\"] + df[\"Severity\"] / 10) / 2\n",
    "(df[\"TMC\"] + df[\"Severity\"])\n",
    "\n",
    "df[\"LOL\"] = df[\"TMC\"]"
   ]
  },
  {
   "cell_type": "code",
   "execution_count": 21,
   "metadata": {},
   "outputs": [
    {
     "name": "stderr",
     "output_type": "stream",
     "text": [
      "/opt/anaconda3/lib/python3.8/site-packages/IPython/core/formatters.py:368: FormatterWarning: text/html formatter returned invalid type <class 'GreyNsights.analyst.Pointer'> (expected <class 'str'>) for object: <GreyNsights.analyst.Pointer object at 0x7feda41c28b0>\n",
      "  warnings.warn(\n",
      "/opt/anaconda3/lib/python3.8/site-packages/IPython/core/formatters.py:368: FormatterWarning: text/latex formatter returned invalid type <class 'GreyNsights.analyst.Pointer'> (expected <class 'str'>) for object: <GreyNsights.analyst.Pointer object at 0x7feda41c28b0>\n",
      "  warnings.warn(\n"
     ]
    },
    {
     "data": {
      "text/plain": [
       "<GreyNsights.analyst.Pointer at 0x7feda41c28b0>"
      ]
     },
     "execution_count": 21,
     "metadata": {},
     "output_type": "execute_result"
    }
   ],
   "source": [
    "df[\"Somecol\"] = df[\"TMC\"] + df[\"Severity\"]\n",
    "\n",
    "(df[\"TMC\"] + df[\"Severity\"] / 10) / 2\n",
    "\n",
    "df[\"TMC\"] > 2\n",
    "\n",
    "(df[\"Severity\"] > 8) | (df[\"TMC\"] > 200)\n",
    "\n",
    "df[df[\"TMC\"] > 200]\n",
    "\n",
    "df[(df[\"Severity\"] > 8) | (df[\"TMC\"] > 200)]"
   ]
  },
  {
   "cell_type": "code",
   "execution_count": 22,
   "metadata": {},
   "outputs": [],
   "source": [
    "And_df = df[(df[\"TMC\"] > 200)]\n",
    "# Multiple conditions: OR\n",
    "Or_df = df[(df[\"Severity\"] > 8) | (df[\"TMC\"] > 200)]"
   ]
  },
  {
   "cell_type": "code",
   "execution_count": 23,
   "metadata": {},
   "outputs": [
    {
     "data": {
      "text/plain": [
       "208.02370964691175"
      ]
     },
     "execution_count": 23,
     "metadata": {},
     "output_type": "execute_result"
    }
   ],
   "source": [
    "And_df[\"TMC\"].mean().get()"
   ]
  },
  {
   "cell_type": "code",
   "execution_count": 24,
   "metadata": {},
   "outputs": [
    {
     "data": {
      "text/plain": [
       "208.02279032257925"
      ]
     },
     "execution_count": 24,
     "metadata": {},
     "output_type": "execute_result"
    }
   ],
   "source": [
    "Or_df[\"TMC\"].mean().get()"
   ]
  },
  {
   "cell_type": "code",
   "execution_count": 25,
   "metadata": {},
   "outputs": [],
   "source": [
    "def somefunc(x):\n",
    "    return x + 2\n",
    "\n",
    "somefunc_pt = dataset.send(somefunc)"
   ]
  },
  {
   "cell_type": "code",
   "execution_count": 26,
   "metadata": {},
   "outputs": [],
   "source": [
    "df[\"Somecol\"] = df[\"TMC\"].apply(somefunc_pt)"
   ]
  },
  {
   "cell_type": "code",
   "execution_count": 27,
   "metadata": {},
   "outputs": [
    {
     "name": "stdout",
     "output_type": "stream",
     "text": [
      "\n",
      "Pointer->Bob\n",
      "\t \t dataset:Sample Data\n",
      "\t \t dtype:<class 'pandas.core.series.Series'>\n",
      "\t \t id:321943713955\n",
      "\t \t port:65441\n",
      "\t \t host:127.0.0.1\n",
      "\n"
     ]
    }
   ],
   "source": [
    "print(df[\"Somecol\"])"
   ]
  },
  {
   "cell_type": "code",
   "execution_count": 28,
   "metadata": {},
   "outputs": [
    {
     "data": {
      "text/plain": [
       "210.0228592498267"
      ]
     },
     "execution_count": 28,
     "metadata": {},
     "output_type": "execute_result"
    }
   ],
   "source": [
    "df[\"Somecol\"].mean().get()"
   ]
  },
  {
   "cell_type": "code",
   "execution_count": null,
   "metadata": {},
   "outputs": [],
   "source": []
  }
 ],
 "metadata": {
  "kernelspec": {
   "display_name": "Python 3",
   "language": "python",
   "name": "python3"
  },
  "language_info": {
   "codemirror_mode": {
    "name": "ipython",
    "version": 3
   },
   "file_extension": ".py",
   "mimetype": "text/x-python",
   "name": "python",
   "nbconvert_exporter": "python",
   "pygments_lexer": "ipython3",
   "version": "3.8.3"
  }
 },
 "nbformat": 4,
 "nbformat_minor": 4
}
