{
 "cells": [
  {
   "cell_type": "markdown",
   "metadata": {},
   "source": [
    "<h1>Accidents Example</h1>"
   ]
  },
  {
   "cell_type": "code",
   "execution_count": 1,
   "metadata": {},
   "outputs": [],
   "source": [
    "from GreyNsights.analyst import Pointer, Command, Analyst\n",
    "from GreyNsights.client import DataWorker, DataSource\n",
    "from GreyNsights.frameworks import framework\n",
    "import numpy as np"
   ]
  },
  {
   "cell_type": "markdown",
   "metadata": {},
   "source": [
    "This notebook demonstrates how to use GreyNSights on a remote dataset hosted by some dataowner. The primary aim of this example is to show pandas could be used as it is across a wide range of queries to analyze and explore a remote datasource. For running this example first run datasource.py , this begins the datasource server which hosts the dataset and executes the requests made from this notebook. "
   ]
  },
  {
   "cell_type": "code",
   "execution_count": 2,
   "metadata": {},
   "outputs": [],
   "source": [
    "#Pandas version of GreyNsights that performs queries remotely \n",
    "frameworks = framework()\n",
    "pandas = frameworks.pandas"
   ]
  },
  {
   "cell_type": "markdown",
   "metadata": {},
   "source": [
    "The analyst identity doesn't actually have any underlying functionality for now , but it is a placeholder for the future such as providing an actual identity in terms of certificate. "
   ]
  },
  {
   "cell_type": "code",
   "execution_count": 3,
   "metadata": {},
   "outputs": [],
   "source": [
    "identity = Analyst(\"Alice\", port=65441, host=\"127.0.0.1\")"
   ]
  },
  {
   "cell_type": "markdown",
   "metadata": {},
   "source": [
    "This connects to the remote dataowner "
   ]
  },
  {
   "cell_type": "code",
   "execution_count": 4,
   "metadata": {},
   "outputs": [],
   "source": [
    "worker = DataWorker(port=65441, host=\"127.0.0.1\")\n",
    "dataset = DataSource(identity, worker, \"Sample Data\")"
   ]
  },
  {
   "cell_type": "markdown",
   "metadata": {},
   "source": [
    "Get the config of data owner to understand the limitations set on the private dataset for querying "
   ]
  },
  {
   "cell_type": "code",
   "execution_count": 5,
   "metadata": {},
   "outputs": [
    {
     "name": "stdout",
     "output_type": "stream",
     "text": [
      "\n",
      "\n",
      "owner_name: Bob\n",
      "dataset_name: Sample Data\n",
      "privacy_budget: 10.0\n",
      "trusted-aggregator: None\n",
      "secret-sharing: Shamirs_scheme\n",
      "private_columns: \n",
      "\n",
      "\t-N\n",
      "\t-o\n",
      "\t-n\n",
      "\t-e\n",
      "visible_columns: \n",
      "\n",
      "\t-d\n",
      "\t-e\n",
      "\t-f\n",
      "\t-a\n",
      "\t-u\n",
      "\t-l\n",
      "\t-t\n",
      "restricted_columns: \n",
      "\n",
      "\t-d\n",
      "\t-e\n",
      "\t-f\n",
      "\t-a\n",
      "\t-u\n",
      "\t-l\n",
      "\t-t\n",
      "allowed_queries: \n",
      "\n",
      "\t-d\n",
      "\t-e\n",
      "\t-f\n",
      "\t-a\n",
      "\t-u\n",
      "\t-l\n",
      "\t-t\n",
      "restricted_columns: \n",
      "\n",
      "\t-d\n",
      "\t-e\n",
      "\t-f\n",
      "\t-a\n",
      "\t-u\n",
      "\t-l\n",
      "\t-t\n",
      "visible_queries: \n",
      "\n",
      "\t-sum\n",
      "\t-count\n",
      "\t-mean\n",
      "\t-percentile\n",
      "\t-max\n",
      "\t-min\n",
      "\t-median\n",
      "restricted_queries: \n",
      "\n",
      "\t-N\n",
      "\t-o\n",
      "\t-n\n",
      "\t-e\n",
      "\n"
     ]
    }
   ],
   "source": [
    "a = dataset.get_config()\n",
    "print(a)"
   ]
  },
  {
   "cell_type": "code",
   "execution_count": 6,
   "metadata": {},
   "outputs": [],
   "source": [
    "a = a.approve().init_pointer()"
   ]
  },
  {
   "cell_type": "markdown",
   "metadata": {},
   "source": [
    "Create a dataframe from the dataset (Its already a dataframe but to demonstrate GreyNSights pandas remote execution)"
   ]
  },
  {
   "cell_type": "code",
   "execution_count": 7,
   "metadata": {},
   "outputs": [],
   "source": [
    "df = pandas.DataFrame(a)"
   ]
  },
  {
   "cell_type": "markdown",
   "metadata": {},
   "source": [
    "Variables and functions can be sent remotely for execution using function send(). The send() returns a pointer to the variable that now lives remotely. "
   ]
  },
  {
   "cell_type": "code",
   "execution_count": 8,
   "metadata": {},
   "outputs": [],
   "source": [
    "p = 3\n",
    "p = dataset.send(p)"
   ]
  },
  {
   "cell_type": "code",
   "execution_count": 9,
   "metadata": {},
   "outputs": [
    {
     "name": "stdout",
     "output_type": "stream",
     "text": [
      "\n",
      "Pointer->Sample Data\n",
      "\t \t dataset:Sample Data\n",
      "\t \t dtype:<class 'pandas.core.frame.DataFrame'>\n",
      "\t \t id:62799278081\n",
      "\t \t port:65441\n",
      "\t \t host:127.0.0.1\n",
      "\n"
     ]
    }
   ],
   "source": [
    "# last 5 rows\n",
    "print(df.tail(p))"
   ]
  },
  {
   "cell_type": "code",
   "execution_count": 10,
   "metadata": {},
   "outputs": [
    {
     "name": "stdout",
     "output_type": "stream",
     "text": [
      "\n",
      "Pointer->Sample Data\n",
      "\t \t dataset:Sample Data\n",
      "\t \t dtype:<class 'pandas.core.frame.DataFrame'>\n",
      "\t \t id:434770736808\n",
      "\t \t port:65441\n",
      "\t \t host:127.0.0.1\n",
      "\n"
     ]
    }
   ],
   "source": [
    "print(df)"
   ]
  },
  {
   "cell_type": "markdown",
   "metadata": {},
   "source": [
    "The below operation performs operation on the pointer which ensures the operation is executed remotely by datasource. The original results are returned only when the get function is called.The exact same functionalities as Pandas dataframes can be performed. "
   ]
  },
  {
   "cell_type": "code",
   "execution_count": 11,
   "metadata": {},
   "outputs": [
    {
     "name": "stdout",
     "output_type": "stream",
     "text": [
      "\n",
      "Pointer->Bob\n",
      "\t \t dataset:Sample Data\n",
      "\t \t dtype:<class 'pandas.core.series.Series'>\n",
      "\t \t id:437555460438\n",
      "\t \t port:65441\n",
      "\t \t host:127.0.0.1\n",
      "\n"
     ]
    }
   ],
   "source": [
    "print(df[\"TMC\"])"
   ]
  },
  {
   "cell_type": "code",
   "execution_count": 12,
   "metadata": {},
   "outputs": [
    {
     "name": "stdout",
     "output_type": "stream",
     "text": [
      "\n",
      "Pointer->Sample Data\n",
      "\t \t dataset:Sample Data\n",
      "\t \t dtype:<class 'float'>\n",
      "\t \t id:564836655698\n",
      "\t \t port:65441\n",
      "\t \t host:127.0.0.1\n",
      "\n"
     ]
    }
   ],
   "source": [
    "print(df[\"TMC\"].sum())"
   ]
  },
  {
   "cell_type": "code",
   "execution_count": 13,
   "metadata": {},
   "outputs": [
    {
     "name": "stdout",
     "output_type": "stream",
     "text": [
      "515650203.8837159\n"
     ]
    }
   ],
   "source": [
    "print(df[\"TMC\"].sum().get())"
   ]
  },
  {
   "cell_type": "code",
   "execution_count": 14,
   "metadata": {},
   "outputs": [
    {
     "name": "stdout",
     "output_type": "stream",
     "text": [
      "TMC sum:  515650097.9761645\n",
      "TMC std:  20.766272454711583\n",
      "Severity mean:  2.3399287483402764\n"
     ]
    }
   ],
   "source": [
    "print(\"TMC sum: \", df[\"TMC\"].sum().get())\n",
    "print(\"TMC std: \", df[\"TMC\"].std().get())\n",
    "print(\"Severity mean: \", df[\"Severity\"].mean().get())"
   ]
  },
  {
   "cell_type": "markdown",
   "metadata": {},
   "source": [
    "The number of rows should be queried as a differentially private count. This reflects dimension of dataset but not the number of rows.  "
   ]
  },
  {
   "cell_type": "code",
   "execution_count": 17,
   "metadata": {},
   "outputs": [
    {
     "data": {
      "text/plain": [
       "(-1, 49)"
      ]
     },
     "execution_count": 17,
     "metadata": {},
     "output_type": "execute_result"
    }
   ],
   "source": [
    "df.shape"
   ]
  },
  {
   "cell_type": "code",
   "execution_count": 18,
   "metadata": {},
   "outputs": [
    {
     "name": "stdout",
     "output_type": "stream",
     "text": [
      "COLUMNS:  Index(['ID', 'Source', 'TMC', 'Severity', 'Start_Time', 'End_Time',\n",
      "       'Start_Lat', 'Start_Lng', 'End_Lat', 'End_Lng', 'Distance(mi)',\n",
      "       'Description', 'Number', 'Street', 'Side', 'City', 'County', 'State',\n",
      "       'Zipcode', 'Country', 'Timezone', 'Airport_Code', 'Weather_Timestamp',\n",
      "       'Temperature(F)', 'Wind_Chill(F)', 'Humidity(%)', 'Pressure(in)',\n",
      "       'Visibility(mi)', 'Wind_Direction', 'Wind_Speed(mph)',\n",
      "       'Precipitation(in)', 'Weather_Condition', 'Amenity', 'Bump', 'Crossing',\n",
      "       'Give_Way', 'Junction', 'No_Exit', 'Railway', 'Roundabout', 'Station',\n",
      "       'Stop', 'Traffic_Calming', 'Traffic_Signal', 'Turning_Loop',\n",
      "       'Sunrise_Sunset', 'Civil_Twilight', 'Nautical_Twilight',\n",
      "       'Astronomical_Twilight'],\n",
      "      dtype='object')\n"
     ]
    }
   ],
   "source": [
    "print(\"COLUMNS: \", df.columns)"
   ]
  },
  {
   "cell_type": "code",
   "execution_count": 19,
   "metadata": {},
   "outputs": [],
   "source": [
    "df.columns = [\n",
    "    \"ID\",\n",
    "    \"Source\",\n",
    "    \"TMC\",\n",
    "    \"Severity\",\n",
    "    \"Start_Time\",\n",
    "    \"End_Time\",\n",
    "    \"Start_Lat\",\n",
    "    \"Start_Lng\",\n",
    "    \"End_Lat\",\n",
    "    \"End_Lng\",\n",
    "    \"Distance_mi\",\n",
    "    \"Description\",\n",
    "    \"Number\",\n",
    "    \"Street\",\n",
    "    \"Side\",\n",
    "    \"City\",\n",
    "    \"County\",\n",
    "    \"State\",\n",
    "    \"Zipcode\",\n",
    "    \"Country\",\n",
    "    \"Timezone\",\n",
    "    \"Airport_Code\",\n",
    "    \"Weather_Timestamp\",\n",
    "    \"Temperature_F\",\n",
    "    \"Wind_Chill_F\",\n",
    "    \"Humidity_%\",\n",
    "    \"Pressure_in\",\n",
    "    \"Visibility_mi\",\n",
    "    \"Wind_Direction\",\n",
    "    \"Wind_Speed_mph\",\n",
    "    \"Precipitation_in\",\n",
    "    \"Weather_Condition\",\n",
    "    \"Amenity\",\n",
    "    \"Bump\",\n",
    "    \"Crossing\",\n",
    "    \"Give_Way\",\n",
    "    \"Junction\",\n",
    "    \"No_Exit\",\n",
    "    \"Railway\",\n",
    "    \"Roundabout\",\n",
    "    \"Station\",\n",
    "    \"Stop\",\n",
    "    \"Traffic_Calming\",\n",
    "    \"Traffic_Signal\",\n",
    "    \"Turning_Loop\",\n",
    "    \"Sunrise_Sunset\",\n",
    "    \"Civil_Twilight\",\n",
    "    \"Nautical_Twilight\",\n",
    "    \"Astronomical_Twilight\",\n",
    "]"
   ]
  },
  {
   "cell_type": "markdown",
   "metadata": {},
   "source": [
    "<h3>Transforming original dataset into a subset of columns</h3>"
   ]
  },
  {
   "cell_type": "code",
   "execution_count": 20,
   "metadata": {},
   "outputs": [],
   "source": [
    "df = df[\n",
    "    [\n",
    "        \"ID\",\n",
    "        \"Source\",\n",
    "        \"TMC\",\n",
    "        \"Severity\",\n",
    "        \"Start_Time\",\n",
    "        \"End_Time\",\n",
    "        \"Start_Lat\",\n",
    "        \"Start_Lng\",\n",
    "        \"End_Lat\",\n",
    "        \"End_Lng\",\n",
    "    ]\n",
    "]\n"
   ]
  },
  {
   "cell_type": "markdown",
   "metadata": {},
   "source": [
    "<h3>A wide range of data transformations applied on pointers</h3>"
   ]
  },
  {
   "cell_type": "code",
   "execution_count": 21,
   "metadata": {},
   "outputs": [
    {
     "name": "stderr",
     "output_type": "stream",
     "text": [
      "/opt/anaconda3/lib/python3.8/site-packages/IPython/core/formatters.py:368: FormatterWarning: text/latex formatter returned invalid type <class 'GreyNsights.analyst.Pointer'> (expected <class 'str'>) for object: <GreyNsights.analyst.Pointer object at 0x7ff3402b9f10>\n",
      "  warnings.warn(\n"
     ]
    },
    {
     "data": {
      "text/plain": [
       "<GreyNsights.analyst.Pointer at 0x7ff3402b9f10>"
      ]
     },
     "execution_count": 21,
     "metadata": {},
     "output_type": "execute_result"
    }
   ],
   "source": [
    "df[\"Somecol\"] = (df[\"TMC\"] + df[\"Severity\"] / 10) / 2\n",
    "(df[\"TMC\"] + df[\"Severity\"])"
   ]
  },
  {
   "cell_type": "code",
   "execution_count": 22,
   "metadata": {},
   "outputs": [
    {
     "name": "stderr",
     "output_type": "stream",
     "text": [
      "/opt/anaconda3/lib/python3.8/site-packages/IPython/core/formatters.py:368: FormatterWarning: text/html formatter returned invalid type <class 'GreyNsights.analyst.Pointer'> (expected <class 'str'>) for object: <GreyNsights.analyst.Pointer object at 0x7ff340470610>\n",
      "  warnings.warn(\n",
      "/opt/anaconda3/lib/python3.8/site-packages/IPython/core/formatters.py:368: FormatterWarning: text/latex formatter returned invalid type <class 'GreyNsights.analyst.Pointer'> (expected <class 'str'>) for object: <GreyNsights.analyst.Pointer object at 0x7ff340470610>\n",
      "  warnings.warn(\n"
     ]
    },
    {
     "data": {
      "text/plain": [
       "<GreyNsights.analyst.Pointer at 0x7ff340470610>"
      ]
     },
     "execution_count": 22,
     "metadata": {},
     "output_type": "execute_result"
    }
   ],
   "source": [
    "df[\"Somecol\"] = df[\"TMC\"] + df[\"Severity\"]\n",
    "\n",
    "(df[\"TMC\"] + df[\"Severity\"] / 10) / 2\n",
    "\n",
    "df[\"TMC\"] > 2\n",
    "\n",
    "(df[\"Severity\"] > 8) | (df[\"TMC\"] > 200)\n",
    "\n",
    "df[df[\"TMC\"] > 200]\n",
    "\n",
    "df[(df[\"Severity\"] > 8) | (df[\"TMC\"] > 200)]"
   ]
  },
  {
   "cell_type": "code",
   "execution_count": 23,
   "metadata": {},
   "outputs": [],
   "source": [
    "And_df = df[(df[\"TMC\"] > 200)]\n",
    "# Multiple conditions: OR\n",
    "Or_df = df[(df[\"Severity\"] > 8) | (df[\"TMC\"] > 200)]"
   ]
  },
  {
   "cell_type": "code",
   "execution_count": 24,
   "metadata": {},
   "outputs": [
    {
     "data": {
      "text/plain": [
       "208.02294982131104"
      ]
     },
     "execution_count": 24,
     "metadata": {},
     "output_type": "execute_result"
    }
   ],
   "source": [
    "And_df[\"TMC\"].mean().get()"
   ]
  },
  {
   "cell_type": "code",
   "execution_count": 25,
   "metadata": {},
   "outputs": [
    {
     "data": {
      "text/plain": [
       "208.02277166764964"
      ]
     },
     "execution_count": 25,
     "metadata": {},
     "output_type": "execute_result"
    }
   ],
   "source": [
    "Or_df[\"TMC\"].mean().get()"
   ]
  },
  {
   "cell_type": "markdown",
   "metadata": {},
   "source": [
    "<h3>Sending a function across and passing pointers as arguments</h3>"
   ]
  },
  {
   "cell_type": "code",
   "execution_count": 26,
   "metadata": {},
   "outputs": [],
   "source": [
    "def somefunc(x):\n",
    "    return x + 2\n",
    "\n",
    "somefunc_pt = dataset.send(somefunc)\n",
    "df[\"Somecol\"] = df[\"TMC\"].apply(somefunc_pt)"
   ]
  },
  {
   "cell_type": "code",
   "execution_count": 28,
   "metadata": {},
   "outputs": [
    {
     "name": "stdout",
     "output_type": "stream",
     "text": [
      "\n",
      "Pointer->Bob\n",
      "\t \t dataset:Sample Data\n",
      "\t \t dtype:<class 'pandas.core.series.Series'>\n",
      "\t \t id:621218086782\n",
      "\t \t port:65441\n",
      "\t \t host:127.0.0.1\n",
      "\n"
     ]
    }
   ],
   "source": [
    "print(df[\"Somecol\"])"
   ]
  },
  {
   "cell_type": "code",
   "execution_count": 29,
   "metadata": {},
   "outputs": [
    {
     "data": {
      "text/plain": [
       "210.02201671942584"
      ]
     },
     "execution_count": 29,
     "metadata": {},
     "output_type": "execute_result"
    }
   ],
   "source": [
    "df[\"Somecol\"].mean().get()"
   ]
  },
  {
   "cell_type": "code",
   "execution_count": null,
   "metadata": {},
   "outputs": [],
   "source": []
  }
 ],
 "metadata": {
  "kernelspec": {
   "display_name": "Python 3",
   "language": "python",
   "name": "python3"
  },
  "language_info": {
   "codemirror_mode": {
    "name": "ipython",
    "version": 3
   },
   "file_extension": ".py",
   "mimetype": "text/x-python",
   "name": "python",
   "nbconvert_exporter": "python",
   "pygments_lexer": "ipython3",
   "version": "3.8.5"
  }
 },
 "nbformat": 4,
 "nbformat_minor": 4
}
