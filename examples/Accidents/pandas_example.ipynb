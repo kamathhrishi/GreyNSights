{
 "cells": [
  {
   "cell_type": "markdown",
   "metadata": {},
   "source": [
    "<h1>Accidents Example</h1>"
   ]
  },
  {
   "cell_type": "markdown",
   "metadata": {},
   "source": [
    "This notebook demonstrates how to use GreyNSights on a remote dataset hosted by some dataowner. The primary aim of this example is to show pandas could be used as it across a wide range of queries to analyze and explore a remote datasource. For running this example first run datasource.py , this begins the datasource server which executes the requests made from this notebook. "
   ]
  },
  {
   "cell_type": "code",
   "execution_count": 1,
   "metadata": {},
   "outputs": [],
   "source": [
    "import numpy as np\n",
    "import pandas "
   ]
  },
  {
   "cell_type": "markdown",
   "metadata": {},
   "source": [
    "Create a dataframe from the dataset (Its already a dataframe but to demonstrate GreyNSights pandas remote execution)"
   ]
  },
  {
   "cell_type": "code",
   "execution_count": 2,
   "metadata": {},
   "outputs": [],
   "source": [
    "dataset = pandas.read_csv(\"US_Accidents_June20.csv\")"
   ]
  },
  {
   "cell_type": "code",
   "execution_count": 3,
   "metadata": {},
   "outputs": [],
   "source": [
    "df = pandas.DataFrame(dataset)"
   ]
  },
  {
   "cell_type": "markdown",
   "metadata": {},
   "source": [
    "The above operation returns a pointer to the datasource on which operations can be performed. The exact same functionalities as Pandas dataframes can be performed. "
   ]
  },
  {
   "cell_type": "markdown",
   "metadata": {},
   "source": [
    "Get summary statistics of dataset"
   ]
  },
  {
   "cell_type": "code",
   "execution_count": 4,
   "metadata": {},
   "outputs": [
    {
     "name": "stdout",
     "output_type": "stream",
     "text": [
      "                TMC      Severity     Start_Lat     Start_Lng       End_Lat  \\\n",
      "count  2.478818e+06  3.513617e+06  3.513617e+06  3.513617e+06  1.034799e+06   \n",
      "mean   2.080226e+02  2.339929e+00  3.654195e+01 -9.579151e+01  3.755758e+01   \n",
      "std    2.076627e+01  5.521935e-01  4.883520e+00  1.736877e+01  4.861215e+00   \n",
      "min    2.000000e+02  1.000000e+00  2.455527e+01 -1.246238e+02  2.457011e+01   \n",
      "25%    2.010000e+02  2.000000e+00  3.363784e+01 -1.174418e+02  3.399477e+01   \n",
      "50%    2.010000e+02  2.000000e+00  3.591687e+01 -9.102601e+01  3.779736e+01   \n",
      "75%    2.010000e+02  3.000000e+00  4.032217e+01 -8.093299e+01  4.105139e+01   \n",
      "max    4.060000e+02  4.000000e+00  4.900220e+01 -6.711317e+01  4.907500e+01   \n",
      "\n",
      "            End_Lng  Distance(mi)        Number  Temperature(F)  \\\n",
      "count  1.034799e+06  3.513617e+06  1.250753e+06    3.447885e+06   \n",
      "mean  -1.004560e+02  2.816167e-01  5.975383e+03    6.193512e+01   \n",
      "std    1.852879e+01  1.550134e+00  1.496624e+04    1.862106e+01   \n",
      "min   -1.244978e+02  0.000000e+00  0.000000e+00   -8.900000e+01   \n",
      "25%   -1.183440e+02  0.000000e+00  8.640000e+02    5.000000e+01   \n",
      "50%   -9.703438e+01  0.000000e+00  2.798000e+03    6.400000e+01   \n",
      "75%   -8.210168e+01  1.000000e-02  7.098000e+03    7.590000e+01   \n",
      "max   -6.710924e+01  3.336300e+02  9.999997e+06    1.706000e+02   \n",
      "\n",
      "       Wind_Chill(F)   Humidity(%)  Pressure(in)  Visibility(mi)  \\\n",
      "count   1.645368e+06  3.443930e+06  3.457735e+06    3.437761e+06   \n",
      "mean    5.355730e+01  6.511427e+01  2.974463e+01    9.122644e+00   \n",
      "std     2.377334e+01  2.275558e+01  8.319758e-01    2.885879e+00   \n",
      "min    -8.900000e+01  1.000000e+00  0.000000e+00    0.000000e+00   \n",
      "25%     3.570000e+01  4.800000e+01  2.973000e+01    1.000000e+01   \n",
      "50%     5.700000e+01  6.700000e+01  2.995000e+01    1.000000e+01   \n",
      "75%     7.200000e+01  8.400000e+01  3.009000e+01    1.000000e+01   \n",
      "max     1.150000e+02  1.000000e+02  5.774000e+01    1.400000e+02   \n",
      "\n",
      "       Wind_Speed(mph)  Precipitation(in)  \n",
      "count     3.059008e+06       1.487743e+06  \n",
      "mean      8.219025e+00       1.598256e-02  \n",
      "std       5.262847e+00       1.928262e-01  \n",
      "min       0.000000e+00       0.000000e+00  \n",
      "25%       5.000000e+00       0.000000e+00  \n",
      "50%       7.000000e+00       0.000000e+00  \n",
      "75%       1.150000e+01       0.000000e+00  \n",
      "max       9.840000e+02       2.500000e+01  \n"
     ]
    }
   ],
   "source": [
    "print(df.describe())"
   ]
  },
  {
   "cell_type": "markdown",
   "metadata": {},
   "source": [
    "The below operation performs operation on the pointer which ensures the operation is executed remotely by datasource. The original results are returned only when the get function is called. This tutorial allows all the get "
   ]
  },
  {
   "cell_type": "code",
   "execution_count": 5,
   "metadata": {},
   "outputs": [
    {
     "name": "stdout",
     "output_type": "stream",
     "text": [
      "208.02258052023183\n"
     ]
    }
   ],
   "source": [
    "print(df[\"TMC\"].mean())"
   ]
  },
  {
   "cell_type": "code",
   "execution_count": 6,
   "metadata": {},
   "outputs": [
    {
     "name": "stdout",
     "output_type": "stream",
     "text": [
      "(3513617, 49)\n"
     ]
    }
   ],
   "source": [
    "print(df.shape)"
   ]
  },
  {
   "cell_type": "code",
   "execution_count": 7,
   "metadata": {},
   "outputs": [
    {
     "name": "stdout",
     "output_type": "stream",
     "text": [
      "Index(['ID', 'Source', 'TMC', 'Severity', 'Start_Time', 'End_Time',\n",
      "       'Start_Lat', 'Start_Lng', 'End_Lat', 'End_Lng', 'Distance(mi)',\n",
      "       'Description', 'Number', 'Street', 'Side', 'City', 'County', 'State',\n",
      "       'Zipcode', 'Country', 'Timezone', 'Airport_Code', 'Weather_Timestamp',\n",
      "       'Temperature(F)', 'Wind_Chill(F)', 'Humidity(%)', 'Pressure(in)',\n",
      "       'Visibility(mi)', 'Wind_Direction', 'Wind_Speed(mph)',\n",
      "       'Precipitation(in)', 'Weather_Condition', 'Amenity', 'Bump', 'Crossing',\n",
      "       'Give_Way', 'Junction', 'No_Exit', 'Railway', 'Roundabout', 'Station',\n",
      "       'Stop', 'Traffic_Calming', 'Traffic_Signal', 'Turning_Loop',\n",
      "       'Sunrise_Sunset', 'Civil_Twilight', 'Nautical_Twilight',\n",
      "       'Astronomical_Twilight'],\n",
      "      dtype='object')\n"
     ]
    }
   ],
   "source": [
    "print(df.columns)"
   ]
  },
  {
   "cell_type": "code",
   "execution_count": 8,
   "metadata": {},
   "outputs": [],
   "source": [
    "df = df[\n",
    "    [\n",
    "        \"ID\",\n",
    "        \"Source\",\n",
    "        \"TMC\",\n",
    "        \"Severity\",\n",
    "        \"Start_Time\",\n",
    "        \"End_Time\",\n",
    "        \"Start_Lat\",\n",
    "        \"Start_Lng\",\n",
    "        \"End_Lat\",\n",
    "        \"End_Lng\",\n",
    "    ]\n",
    "]"
   ]
  },
  {
   "cell_type": "code",
   "execution_count": 9,
   "metadata": {},
   "outputs": [
    {
     "data": {
      "text/plain": [
       "Index(['ID', 'Source', 'TMC', 'Severity', 'Start_Time', 'End_Time',\n",
       "       'Start_Lat', 'Start_Lng', 'End_Lat', 'End_Lng'],\n",
       "      dtype='object')"
      ]
     },
     "execution_count": 9,
     "metadata": {},
     "output_type": "execute_result"
    }
   ],
   "source": [
    "df.columns"
   ]
  },
  {
   "cell_type": "code",
   "execution_count": 10,
   "metadata": {},
   "outputs": [],
   "source": [
    "df[\"Somecol\"] = (df[\"TMC\"] + df[\"Severity\"] / 10) / 2"
   ]
  },
  {
   "cell_type": "code",
   "execution_count": 11,
   "metadata": {},
   "outputs": [
    {
     "data": {
      "text/plain": [
       "count    2.478818e+06\n",
       "mean     1.041284e+02\n",
       "std      1.038752e+01\n",
       "min      1.001000e+02\n",
       "25%      1.006000e+02\n",
       "50%      1.006000e+02\n",
       "75%      1.006500e+02\n",
       "max      2.032000e+02\n",
       "Name: Somecol, dtype: float64"
      ]
     },
     "execution_count": 11,
     "metadata": {},
     "output_type": "execute_result"
    }
   ],
   "source": [
    "df[\"Somecol\"].describe()"
   ]
  },
  {
   "cell_type": "code",
   "execution_count": 12,
   "metadata": {},
   "outputs": [
    {
     "data": {
      "text/plain": [
       "count    2.478818e+06\n",
       "mean     2.103657e+02\n",
       "std      2.085879e+01\n",
       "min      2.020000e+02\n",
       "25%      2.030000e+02\n",
       "50%      2.030000e+02\n",
       "75%      2.040000e+02\n",
       "max      4.100000e+02\n",
       "Name: Somecol, dtype: float64"
      ]
     },
     "execution_count": 12,
     "metadata": {},
     "output_type": "execute_result"
    }
   ],
   "source": [
    "df[\"Somecol\"] = df[\"TMC\"] + df[\"Severity\"]\n",
    "df[\"Somecol\"].describe()"
   ]
  },
  {
   "cell_type": "code",
   "execution_count": 13,
   "metadata": {},
   "outputs": [
    {
     "data": {
      "text/plain": [
       "count     3513617\n",
       "unique          2\n",
       "top          True\n",
       "freq      2478752\n",
       "dtype: object"
      ]
     },
     "execution_count": 13,
     "metadata": {},
     "output_type": "execute_result"
    }
   ],
   "source": [
    "((df[\"Severity\"] > 8) | (df[\"TMC\"] > 200)).describe()"
   ]
  },
  {
   "cell_type": "code",
   "execution_count": 14,
   "metadata": {},
   "outputs": [
    {
     "data": {
      "text/html": [
       "<div>\n",
       "<style scoped>\n",
       "    .dataframe tbody tr th:only-of-type {\n",
       "        vertical-align: middle;\n",
       "    }\n",
       "\n",
       "    .dataframe tbody tr th {\n",
       "        vertical-align: top;\n",
       "    }\n",
       "\n",
       "    .dataframe thead th {\n",
       "        text-align: right;\n",
       "    }\n",
       "</style>\n",
       "<table border=\"1\" class=\"dataframe\">\n",
       "  <thead>\n",
       "    <tr style=\"text-align: right;\">\n",
       "      <th></th>\n",
       "      <th>TMC</th>\n",
       "      <th>Severity</th>\n",
       "      <th>Start_Lat</th>\n",
       "      <th>Start_Lng</th>\n",
       "      <th>End_Lat</th>\n",
       "      <th>End_Lng</th>\n",
       "      <th>Somecol</th>\n",
       "    </tr>\n",
       "  </thead>\n",
       "  <tbody>\n",
       "    <tr>\n",
       "      <th>count</th>\n",
       "      <td>2.478752e+06</td>\n",
       "      <td>2.478752e+06</td>\n",
       "      <td>2.478752e+06</td>\n",
       "      <td>2.478752e+06</td>\n",
       "      <td>0.0</td>\n",
       "      <td>0.0</td>\n",
       "      <td>2.478752e+06</td>\n",
       "    </tr>\n",
       "    <tr>\n",
       "      <th>mean</th>\n",
       "      <td>2.080228e+02</td>\n",
       "      <td>2.343143e+00</td>\n",
       "      <td>3.611790e+01</td>\n",
       "      <td>-9.384430e+01</td>\n",
       "      <td>NaN</td>\n",
       "      <td>NaN</td>\n",
       "      <td>2.103659e+02</td>\n",
       "    </tr>\n",
       "    <tr>\n",
       "      <th>std</th>\n",
       "      <td>2.076651e+01</td>\n",
       "      <td>4.814226e-01</td>\n",
       "      <td>4.830004e+00</td>\n",
       "      <td>1.647460e+01</td>\n",
       "      <td>NaN</td>\n",
       "      <td>NaN</td>\n",
       "      <td>2.085903e+01</td>\n",
       "    </tr>\n",
       "    <tr>\n",
       "      <th>min</th>\n",
       "      <td>2.010000e+02</td>\n",
       "      <td>1.000000e+00</td>\n",
       "      <td>2.455527e+01</td>\n",
       "      <td>-1.246238e+02</td>\n",
       "      <td>NaN</td>\n",
       "      <td>NaN</td>\n",
       "      <td>2.020000e+02</td>\n",
       "    </tr>\n",
       "    <tr>\n",
       "      <th>25%</th>\n",
       "      <td>2.010000e+02</td>\n",
       "      <td>2.000000e+00</td>\n",
       "      <td>3.323071e+01</td>\n",
       "      <td>-1.118023e+02</td>\n",
       "      <td>NaN</td>\n",
       "      <td>NaN</td>\n",
       "      <td>2.030000e+02</td>\n",
       "    </tr>\n",
       "    <tr>\n",
       "      <th>50%</th>\n",
       "      <td>2.010000e+02</td>\n",
       "      <td>2.000000e+00</td>\n",
       "      <td>3.539139e+01</td>\n",
       "      <td>-8.792552e+01</td>\n",
       "      <td>NaN</td>\n",
       "      <td>NaN</td>\n",
       "      <td>2.030000e+02</td>\n",
       "    </tr>\n",
       "    <tr>\n",
       "      <th>75%</th>\n",
       "      <td>2.010000e+02</td>\n",
       "      <td>3.000000e+00</td>\n",
       "      <td>3.998266e+01</td>\n",
       "      <td>-8.083914e+01</td>\n",
       "      <td>NaN</td>\n",
       "      <td>NaN</td>\n",
       "      <td>2.040000e+02</td>\n",
       "    </tr>\n",
       "    <tr>\n",
       "      <th>max</th>\n",
       "      <td>4.060000e+02</td>\n",
       "      <td>4.000000e+00</td>\n",
       "      <td>4.900220e+01</td>\n",
       "      <td>-6.783974e+01</td>\n",
       "      <td>NaN</td>\n",
       "      <td>NaN</td>\n",
       "      <td>4.100000e+02</td>\n",
       "    </tr>\n",
       "  </tbody>\n",
       "</table>\n",
       "</div>"
      ],
      "text/plain": [
       "                TMC      Severity     Start_Lat     Start_Lng  End_Lat  \\\n",
       "count  2.478752e+06  2.478752e+06  2.478752e+06  2.478752e+06      0.0   \n",
       "mean   2.080228e+02  2.343143e+00  3.611790e+01 -9.384430e+01      NaN   \n",
       "std    2.076651e+01  4.814226e-01  4.830004e+00  1.647460e+01      NaN   \n",
       "min    2.010000e+02  1.000000e+00  2.455527e+01 -1.246238e+02      NaN   \n",
       "25%    2.010000e+02  2.000000e+00  3.323071e+01 -1.118023e+02      NaN   \n",
       "50%    2.010000e+02  2.000000e+00  3.539139e+01 -8.792552e+01      NaN   \n",
       "75%    2.010000e+02  3.000000e+00  3.998266e+01 -8.083914e+01      NaN   \n",
       "max    4.060000e+02  4.000000e+00  4.900220e+01 -6.783974e+01      NaN   \n",
       "\n",
       "       End_Lng       Somecol  \n",
       "count      0.0  2.478752e+06  \n",
       "mean       NaN  2.103659e+02  \n",
       "std        NaN  2.085903e+01  \n",
       "min        NaN  2.020000e+02  \n",
       "25%        NaN  2.030000e+02  \n",
       "50%        NaN  2.030000e+02  \n",
       "75%        NaN  2.040000e+02  \n",
       "max        NaN  4.100000e+02  "
      ]
     },
     "execution_count": 14,
     "metadata": {},
     "output_type": "execute_result"
    }
   ],
   "source": [
    "(df[df[\"TMC\"] > 200]).describe()"
   ]
  },
  {
   "cell_type": "code",
   "execution_count": 15,
   "metadata": {},
   "outputs": [],
   "source": [
    "def somefunc(x):\n",
    "    return x + 2\n",
    "\n",
    "df[\"Somecol\"] = df[\"TMC\"].apply(somefunc)"
   ]
  },
  {
   "cell_type": "code",
   "execution_count": 16,
   "metadata": {},
   "outputs": [
    {
     "data": {
      "text/plain": [
       "count    2.478818e+06\n",
       "mean     2.100226e+02\n",
       "std      2.076627e+01\n",
       "min      2.020000e+02\n",
       "25%      2.030000e+02\n",
       "50%      2.030000e+02\n",
       "75%      2.030000e+02\n",
       "max      4.080000e+02\n",
       "Name: Somecol, dtype: float64"
      ]
     },
     "execution_count": 16,
     "metadata": {},
     "output_type": "execute_result"
    }
   ],
   "source": [
    "df[\"Somecol\"].describe()"
   ]
  }
 ],
 "metadata": {
  "kernelspec": {
   "display_name": "Python 3",
   "language": "python",
   "name": "python3"
  },
  "language_info": {
   "codemirror_mode": {
    "name": "ipython",
    "version": 3
   },
   "file_extension": ".py",
   "mimetype": "text/x-python",
   "name": "python",
   "nbconvert_exporter": "python",
   "pygments_lexer": "ipython3",
   "version": "3.8.3"
  }
 },
 "nbformat": 4,
 "nbformat_minor": 4
}
